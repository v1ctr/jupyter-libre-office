{
 "cells": [
  {
   "cell_type": "code",
   "execution_count": 1,
   "id": "24180672-5852-4a8c-8492-2d0f444dfd18",
   "metadata": {},
   "outputs": [
    {
     "name": "stdout",
     "output_type": "stream",
     "text": [
      "LibreOffice 24.2.6.2 420(Build:2)\n",
      "\n"
     ]
    }
   ],
   "source": [
    "! soffice --version"
   ]
  },
  {
   "cell_type": "code",
   "execution_count": 1,
   "id": "718c4b5a-78f2-4269-911c-c83fd6a53084",
   "metadata": {},
   "outputs": [
    {
     "name": "stdout",
     "output_type": "stream",
     "text": [
      "convert /home/jovyan/work/test.docx as a Writer document -> /home/jovyan/work/test.pdf using filter : writer_pdf_Export\n",
      "Overwriting: /home/jovyan/work/test.pdf\n"
     ]
    }
   ],
   "source": [
    "! soffice --headless --convert-to pdf test.docx"
   ]
  },
  {
   "cell_type": "code",
   "execution_count": 2,
   "id": "d2c4d3a1-0f45-4580-8428-3cc5bede8666",
   "metadata": {},
   "outputs": [],
   "source": [
    "import subprocess"
   ]
  },
  {
   "cell_type": "code",
   "execution_count": 6,
   "id": "9df7307b-f387-4f50-a545-505c91dfbd8f",
   "metadata": {},
   "outputs": [
    {
     "name": "stdout",
     "output_type": "stream",
     "text": [
      "convert /home/jovyan/work/test.docx as a Writer document -> /home/jovyan/work/test.pdf using filter : writer_pdf_Export\n",
      "Overwriting: /home/jovyan/work/test.pdf\n",
      "\n"
     ]
    }
   ],
   "source": [
    "result = subprocess.run([\"soffice\", \"--headless\", \"--convert-to\", \"pdf\", \"test.docx\"], capture_output=True, text=True)\n",
    "print(result.stdout)"
   ]
  },
  {
   "cell_type": "code",
   "execution_count": 7,
   "id": "6267fd4f-fe06-45a7-b33b-529001f0fbd0",
   "metadata": {},
   "outputs": [
    {
     "name": "stdout",
     "output_type": "stream",
     "text": [
      "convert /home/jovyan/work/test.docx as a Writer document -> /home/jovyan/work/test.rtf using filter : Rich Text Format\n",
      "\n"
     ]
    }
   ],
   "source": [
    "result = subprocess.run([\"soffice\", \"--headless\", \"--convert-to\", \"rtf\", \"test.docx\"], capture_output=True, text=True)\n",
    "print(result.stdout)"
   ]
  },
  {
   "cell_type": "code",
   "execution_count": null,
   "id": "4e306011-5947-4fb6-8f62-42124867c980",
   "metadata": {},
   "outputs": [],
   "source": []
  },
  {
   "cell_type": "code",
   "execution_count": null,
   "id": "095bc8e3-7599-41b9-a777-c1f29d43750d",
   "metadata": {},
   "outputs": [],
   "source": []
  }
 ],
 "metadata": {
  "kernelspec": {
   "display_name": "Python 3 (ipykernel)",
   "language": "python",
   "name": "python3"
  },
  "language_info": {
   "codemirror_mode": {
    "name": "ipython",
    "version": 3
   },
   "file_extension": ".py",
   "mimetype": "text/x-python",
   "name": "python",
   "nbconvert_exporter": "python",
   "pygments_lexer": "ipython3",
   "version": "3.11.10"
  }
 },
 "nbformat": 4,
 "nbformat_minor": 5
}
